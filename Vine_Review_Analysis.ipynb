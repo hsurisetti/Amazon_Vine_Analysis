{
  "nbformat": 4,
  "nbformat_minor": 0,
  "metadata": {
    "colab": {
      "provenance": [],
      "toc_visible": true
    },
    "kernelspec": {
      "name": "python3",
      "display_name": "Python 3"
    },
    "language_info": {
      "name": "python"
    }
  },
  "cells": [
    {
      "cell_type": "markdown",
      "source": [
        "# Deliverable 2 : Determine Bias of Vine Reviews"
      ],
      "metadata": {
        "id": "XavgMsVntPmf"
      }
    },
    {
      "cell_type": "code",
      "source": [
        "import os\n",
        "# Find the latest version of spark 3.2 from http://www.apache.org/dist/spark/ and enter as the spark version\n",
        "# For example:\n",
        "# spark_version = 'spark-3.2.3'\n",
        "spark_version = 'spark-3.2.3'\n",
        "os.environ['SPARK_VERSION']=spark_version\n",
        "\n",
        "# Install Spark and Java\n",
        "!apt-get update\n",
        "!apt-get install openjdk-11-jdk-headless -qq > /dev/null\n",
        "!wget -q http://www.apache.org/dist/spark/$SPARK_VERSION/$SPARK_VERSION-bin-hadoop2.7.tgz\n",
        "!tar xf $SPARK_VERSION-bin-hadoop2.7.tgz\n",
        "!pip install -q findspark\n",
        "\n",
        "# Set Environment Variables\n",
        "import os\n",
        "os.environ[\"JAVA_HOME\"] = \"/usr/lib/jvm/java-11-openjdk-amd64\"\n",
        "os.environ[\"SPARK_HOME\"] = f\"/content/{spark_version}-bin-hadoop2.7\"\n",
        "\n",
        "# Start a SparkSession\n",
        "import findspark\n",
        "findspark.init()"
      ],
      "metadata": {
        "colab": {
          "base_uri": "https://localhost:8080/"
        },
        "id": "qrD6mBQ_tXlX",
        "outputId": "c1e7ee18-d076-4c05-d202-972ecb83447f"
      },
      "execution_count": 1,
      "outputs": [
        {
          "output_type": "stream",
          "name": "stdout",
          "text": [
            "\r0% [Working]\r            \rHit:1 https://cloud.r-project.org/bin/linux/ubuntu focal-cran40/ InRelease\n",
            "\r0% [Waiting for headers] [Waiting for headers] [Waiting for headers] [Waiting f\r                                                                               \rIgn:2 https://developer.download.nvidia.com/compute/machine-learning/repos/ubuntu2004/x86_64  InRelease\n",
            "\r                                                                               \r0% [Waiting for headers] [Waiting for headers] [Waiting for headers]\r                                                                    \rHit:3 https://developer.download.nvidia.com/compute/cuda/repos/ubuntu2004/x86_64  InRelease\n",
            "\r0% [Waiting for headers] [Waiting for headers] [Waiting for headers]\r                                                                    \rHit:4 http://security.ubuntu.com/ubuntu focal-security InRelease\n",
            "\r0% [Waiting for headers] [Waiting for headers] [Waiting for headers]\r                                                                    \rHit:5 https://developer.download.nvidia.com/compute/machine-learning/repos/ubuntu2004/x86_64  Release\n",
            "\r                                                                    \r0% [Waiting for headers] [Waiting for headers]\r                                              \rHit:6 http://ppa.launchpad.net/c2d4u.team/c2d4u4.0+/ubuntu focal InRelease\n",
            "Hit:7 http://archive.ubuntu.com/ubuntu focal InRelease\n",
            "Hit:8 http://archive.ubuntu.com/ubuntu focal-updates InRelease\n",
            "Hit:9 http://ppa.launchpad.net/cran/libgit2/ubuntu focal InRelease\n",
            "Hit:10 http://archive.ubuntu.com/ubuntu focal-backports InRelease\n",
            "Hit:11 http://ppa.launchpad.net/deadsnakes/ppa/ubuntu focal InRelease\n",
            "Hit:13 http://ppa.launchpad.net/graphics-drivers/ppa/ubuntu focal InRelease\n",
            "Reading package lists... Done\n"
          ]
        }
      ]
    },
    {
      "cell_type": "code",
      "source": [
        "# Download the Postgres driver that will allow Spark to interact with Postgres.\n",
        "!wget https://jdbc.postgresql.org/download/postgresql-42.2.16.jar"
      ],
      "metadata": {
        "colab": {
          "base_uri": "https://localhost:8080/"
        },
        "id": "apkaiKT5tn2e",
        "outputId": "d5f791bc-c2c6-4006-c0fa-87c3184e0e9d"
      },
      "execution_count": 2,
      "outputs": [
        {
          "output_type": "stream",
          "name": "stdout",
          "text": [
            "--2023-02-08 15:51:08--  https://jdbc.postgresql.org/download/postgresql-42.2.16.jar\n",
            "Resolving jdbc.postgresql.org (jdbc.postgresql.org)... 72.32.157.228, 2001:4800:3e1:1::228\n",
            "Connecting to jdbc.postgresql.org (jdbc.postgresql.org)|72.32.157.228|:443... connected.\n",
            "HTTP request sent, awaiting response... 200 OK\n",
            "Length: 1002883 (979K) [application/java-archive]\n",
            "Saving to: ‘postgresql-42.2.16.jar.1’\n",
            "\n",
            "postgresql-42.2.16. 100%[===================>] 979.38K  6.22MB/s    in 0.2s    \n",
            "\n",
            "2023-02-08 15:51:09 (6.22 MB/s) - ‘postgresql-42.2.16.jar.1’ saved [1002883/1002883]\n",
            "\n"
          ]
        }
      ]
    },
    {
      "cell_type": "code",
      "source": [
        "from pyspark.sql import SparkSession\n",
        "spark = SparkSession.builder.appName(\"M17-Amazon-Challenge\").config(\"spark.driver.extraClassPath\",\"/content/postgresql-42.2.16.jar\").getOrCreate()"
      ],
      "metadata": {
        "id": "MobAAzg8tpY8"
      },
      "execution_count": 3,
      "outputs": []
    },
    {
      "cell_type": "code",
      "source": [
        "from pyspark import SparkFiles\n",
        "url = \"https://s3.amazonaws.com/amazon-reviews-pds/tsv/amazon_reviews_us_Video_Games_v1_00.tsv.gz\"\n",
        "spark.sparkContext.addFile(url)\n",
        "df = spark.read.option(\"encoding\", \"UTF-8\").csv(SparkFiles.get(\"amazon_reviews_us_Video_Games_v1_00.tsv.gz\"), sep=\"\\t\", header=True, inferSchema=True)\n",
        "df.show()"
      ],
      "metadata": {
        "colab": {
          "base_uri": "https://localhost:8080/"
        },
        "id": "edcZWjc_t7Wt",
        "outputId": "d49bacb8-fb1e-4d85-b917-d8cf0055dbc8"
      },
      "execution_count": 4,
      "outputs": [
        {
          "output_type": "stream",
          "name": "stdout",
          "text": [
            "+-----------+-----------+--------------+----------+--------------+--------------------+----------------+-----------+-------------+-----------+----+-----------------+--------------------+--------------------+-----------+\n",
            "|marketplace|customer_id|     review_id|product_id|product_parent|       product_title|product_category|star_rating|helpful_votes|total_votes|vine|verified_purchase|     review_headline|         review_body|review_date|\n",
            "+-----------+-----------+--------------+----------+--------------+--------------------+----------------+-----------+-------------+-----------+----+-----------------+--------------------+--------------------+-----------+\n",
            "|         US|   12039526| RTIS3L2M1F5SM|B001CXYMFS|     737716809|Thrustmaster T-Fl...|     Video Games|          5|            0|          0|   N|                Y|an amazing joysti...|Used this for Eli...| 2015-08-31|\n",
            "|         US|    9636577| R1ZV7R40OLHKD|B00M920ND6|     569686175|Tonsee 6 buttons ...|     Video Games|          5|            0|          0|   N|                Y|Definitely a sile...|Loved it,  I didn...| 2015-08-31|\n",
            "|         US|    2331478|R3BH071QLH8QMC|B0029CSOD2|      98937668|Hidden Mysteries:...|     Video Games|          1|            0|          1|   N|                Y|            One Star|poor quality work...| 2015-08-31|\n",
            "|         US|   52495923|R127K9NTSXA2YH|B00GOOSV98|      23143350|GelTabz Performan...|     Video Games|          3|            0|          0|   N|                Y|good, but could b...|nice, but tend to...| 2015-08-31|\n",
            "|         US|   14533949|R32ZWUXDJPW27Q|B00Y074JOM|     821342511|Zero Suit Samus a...|     Video Games|          4|            0|          0|   N|                Y|   Great but flawed.|Great amiibo, gre...| 2015-08-31|\n",
            "|         US|    2377552|R3AQQ4YUKJWBA6|B002UBI6W6|     328764615|Psyclone Recharge...|     Video Games|          1|            0|          0|   N|                Y|            One Star|The remote consta...| 2015-08-31|\n",
            "|         US|   17521011|R2F0POU5K6F73F|B008XHCLFO|      24234603|Protection for yo...|     Video Games|          5|            0|          0|   N|                Y|              A Must|I have a 2012-201...| 2015-08-31|\n",
            "|         US|   19676307|R3VNR804HYSMR6|B00BRA9R6A|     682267517|   Nerf 3DS XL Armor|     Video Games|          5|            0|          0|   N|                Y|          Five Stars|Perfect, kids lov...| 2015-08-31|\n",
            "|         US|     224068| R3GZTM72WA2QH|B009EPWJLA|     435241890|One Piece: Pirate...|     Video Games|          5|            0|          0|   N|                Y|          Five Stars|            Excelent| 2015-08-31|\n",
            "|         US|   48467989| RNQOY62705W1K|B0000AV7GB|     256572651|Playstation 2 Dan...|     Video Games|          4|            0|          0|   N|                Y|          Four Stars|Slippery but expe...| 2015-08-31|\n",
            "|         US|     106569|R1VTIA3JTYBY02|B00008KTNN|     384411423|Metal Arms: Glitc...|     Video Games|          5|            0|          0|   N|                N|          Five Stars|Love the game. Se...| 2015-08-31|\n",
            "|         US|   48269642|R29DOU8791QZL8|B000A3IA0Y|     472622859|72 Pin Connector ...|     Video Games|          1|            0|          0|   N|                Y| Game will get stuck|Does not fit prop...| 2015-08-31|\n",
            "|         US|   52738710|R15DUT1VIJ9RJZ|B0053BQN34|     577628462|uDraw Gametablet ...|     Video Games|          2|            0|          0|   N|                Y|We have tried it ...|This was way too ...| 2015-08-31|\n",
            "|         US|   10556786|R3IMF2MQ3OU9ZM|B002I0HIMI|     988218515|NBA 2K12(Covers M...|     Video Games|          4|            0|          0|   N|                Y|          Four Stars|Works great good ...| 2015-08-31|\n",
            "|         US|    2963837|R23H79DHOZTYAU|B0081EH12M|     770100932|New Trigger Grips...|     Video Games|          1|            1|          1|   N|                Y|Now i have to buy...|It did not fit th...| 2015-08-31|\n",
            "|         US|   23092109| RIV24EQAIXA4O|B005FMLZQQ|      24647669|Xbox 360 Media Re...|     Video Games|          5|            0|          0|   N|                Y|          Five Stars|perfect lightweig...| 2015-08-31|\n",
            "|         US|   23091728|R3UCNGYDVN24YB|B002BSA388|      33706205|Super Mario Galaxy 2|     Video Games|          5|            0|          0|   N|                Y|          Five Stars|               great| 2015-08-31|\n",
            "|         US|   10712640| RUL4H4XTTN2DY|B00BUSLSAC|     829667834|Nintendo 3DS XL -...|     Video Games|          5|            0|          0|   N|                Y|          Five Stars|Works beautifully...| 2015-08-31|\n",
            "|         US|   17455376|R20JF7Z4DHTNX5|B00KWF38AW|     110680188|Captain Toad:  Tr...|     Video Games|          5|            0|          0|   N|                Y|          Five Stars|Kids loved the ga...| 2015-08-31|\n",
            "|         US|   14754850|R2T1AJ5MFI2260|B00BRQJYA8|     616463426|Lego Batman 2: DC...|     Video Games|          4|            0|          0|   N|                Y|          Four Stars|           Goodngame| 2015-08-31|\n",
            "+-----------+-----------+--------------+----------+--------------+--------------------+----------------+-----------+-------------+-----------+----+-----------------+--------------------+--------------------+-----------+\n",
            "only showing top 20 rows\n",
            "\n"
          ]
        }
      ]
    },
    {
      "cell_type": "code",
      "source": [
        "df.count()"
      ],
      "metadata": {
        "colab": {
          "base_uri": "https://localhost:8080/"
        },
        "id": "S7IgrcERuSl0",
        "outputId": "bccef05c-487e-4676-a985-9f48ad1e88d2"
      },
      "execution_count": 5,
      "outputs": [
        {
          "output_type": "execute_result",
          "data": {
            "text/plain": [
              "1785997"
            ]
          },
          "metadata": {},
          "execution_count": 5
        }
      ]
    },
    {
      "cell_type": "code",
      "source": [
        "# Create a Vine Table DataFrame\n",
        "vine_df = df.select(['review_id','star_rating','helpful_votes','total_votes','vine','verified_purchase'])\n",
        "vine_df.show()"
      ],
      "metadata": {
        "colab": {
          "base_uri": "https://localhost:8080/"
        },
        "id": "7UYwiZ33vw1M",
        "outputId": "c3159ef3-5fe0-4a6f-c15f-40087878ca75"
      },
      "execution_count": 6,
      "outputs": [
        {
          "output_type": "stream",
          "name": "stdout",
          "text": [
            "+--------------+-----------+-------------+-----------+----+-----------------+\n",
            "|     review_id|star_rating|helpful_votes|total_votes|vine|verified_purchase|\n",
            "+--------------+-----------+-------------+-----------+----+-----------------+\n",
            "| RTIS3L2M1F5SM|          5|            0|          0|   N|                Y|\n",
            "| R1ZV7R40OLHKD|          5|            0|          0|   N|                Y|\n",
            "|R3BH071QLH8QMC|          1|            0|          1|   N|                Y|\n",
            "|R127K9NTSXA2YH|          3|            0|          0|   N|                Y|\n",
            "|R32ZWUXDJPW27Q|          4|            0|          0|   N|                Y|\n",
            "|R3AQQ4YUKJWBA6|          1|            0|          0|   N|                Y|\n",
            "|R2F0POU5K6F73F|          5|            0|          0|   N|                Y|\n",
            "|R3VNR804HYSMR6|          5|            0|          0|   N|                Y|\n",
            "| R3GZTM72WA2QH|          5|            0|          0|   N|                Y|\n",
            "| RNQOY62705W1K|          4|            0|          0|   N|                Y|\n",
            "|R1VTIA3JTYBY02|          5|            0|          0|   N|                N|\n",
            "|R29DOU8791QZL8|          1|            0|          0|   N|                Y|\n",
            "|R15DUT1VIJ9RJZ|          2|            0|          0|   N|                Y|\n",
            "|R3IMF2MQ3OU9ZM|          4|            0|          0|   N|                Y|\n",
            "|R23H79DHOZTYAU|          1|            1|          1|   N|                Y|\n",
            "| RIV24EQAIXA4O|          5|            0|          0|   N|                Y|\n",
            "|R3UCNGYDVN24YB|          5|            0|          0|   N|                Y|\n",
            "| RUL4H4XTTN2DY|          5|            0|          0|   N|                Y|\n",
            "|R20JF7Z4DHTNX5|          5|            0|          0|   N|                Y|\n",
            "|R2T1AJ5MFI2260|          4|            0|          0|   N|                Y|\n",
            "+--------------+-----------+-------------+-----------+----+-----------------+\n",
            "only showing top 20 rows\n",
            "\n"
          ]
        }
      ]
    },
    {
      "cell_type": "code",
      "source": [
        "# import the col function from the sql functions\n",
        "from pyspark.sql.functions import col\n",
        "\n",
        "# 2.1 : Filter the rows where the total_votes are equal or greater than 20\n",
        "total_votes_20or_more_df = vine_df.filter(col(\"total_votes\") >= 20)\n",
        "total_votes_20or_more_df.show()"
      ],
      "metadata": {
        "colab": {
          "base_uri": "https://localhost:8080/"
        },
        "id": "cl7T_p2BueiQ",
        "outputId": "981c1d22-3210-4d5a-ab4b-5ca492d5a961"
      },
      "execution_count": 7,
      "outputs": [
        {
          "output_type": "stream",
          "name": "stdout",
          "text": [
            "+--------------+-----------+-------------+-----------+----+-----------------+\n",
            "|     review_id|star_rating|helpful_votes|total_votes|vine|verified_purchase|\n",
            "+--------------+-----------+-------------+-----------+----+-----------------+\n",
            "| R4PKAZRQJJX14|          1|           21|         34|   N|                N|\n",
            "|R2CI0Y288CC7E2|          1|           21|         35|   N|                Y|\n",
            "|R127WEQY2FM1T3|          1|          147|        175|   N|                Y|\n",
            "|R3EZ0EPYLDA34S|          1|           14|         31|   N|                Y|\n",
            "|R2FJ94555FZH32|          2|           55|         60|   N|                N|\n",
            "|R1U3AR67RE273L|          1|           51|         65|   N|                Y|\n",
            "|R3PZOXA5X1U8KW|          4|           31|         36|   N|                N|\n",
            "| R6KTC1OPIOIIG|          2|           19|         34|   N|                Y|\n",
            "|R36O341WWXXKNP|          5|           28|         31|   N|                N|\n",
            "|R3GSK9MM8DNOYI|          1|            4|         32|   N|                N|\n",
            "|R10LZVBLQHBVJ0|          2|          151|        198|   N|                N|\n",
            "|R1VR5GLGY1GE7N|          1|           49|         51|   N|                Y|\n",
            "|R3GUUC6NT4QMCL|          1|            5|         36|   N|                N|\n",
            "|R1ZSD020RT18I5|          1|            7|        139|   N|                N|\n",
            "|R113X48B575ASY|          1|           15|         45|   N|                N|\n",
            "| RJLYLGRYH7SFQ|          1|           34|        116|   N|                N|\n",
            "|R2OWDAR0EDEPTF|          1|           23|         28|   N|                N|\n",
            "|R3CICXKAHN6NUD|          1|            0|         23|   N|                Y|\n",
            "|R29BOS5HMAY1LO|          5|           88|        110|   N|                N|\n",
            "| R8WD0136CETA7|          2|           99|        119|   N|                N|\n",
            "+--------------+-----------+-------------+-----------+----+-----------------+\n",
            "only showing top 20 rows\n",
            "\n"
          ]
        }
      ]
    },
    {
      "cell_type": "code",
      "source": [
        "total_votes_20or_more_df.count()"
      ],
      "metadata": {
        "colab": {
          "base_uri": "https://localhost:8080/"
        },
        "id": "cHpsQJ0Cuida",
        "outputId": "4055f1e2-7b7a-4a92-bb9a-4588b3deaf53"
      },
      "execution_count": 8,
      "outputs": [
        {
          "output_type": "execute_result",
          "data": {
            "text/plain": [
              "65379"
            ]
          },
          "metadata": {},
          "execution_count": 8
        }
      ]
    },
    {
      "cell_type": "code",
      "source": [
        "# 2.2 Filter the total_votes_20or_more_df and create a new DataFrame to retrieve all the rows where the number of helpful_votes / total_votes >= 50%.\n",
        "\n",
        "percent_votes_df = total_votes_20or_more_df.withColumn('percent_votes',col(\"helpful_votes\")/col(\"total_votes\")).alias('percent_votes').filter(col(\"helpful_votes\")/col(\"total_votes\") >= .50)\n",
        "percent_votes_df.show()"
      ],
      "metadata": {
        "colab": {
          "base_uri": "https://localhost:8080/"
        },
        "id": "0nAoFKsKwS7E",
        "outputId": "dcbf2eb9-0e1e-42c8-cf04-bc471cff012b"
      },
      "execution_count": 10,
      "outputs": [
        {
          "output_type": "stream",
          "name": "stdout",
          "text": [
            "+--------------+-----------+-------------+-----------+----+-----------------+------------------+\n",
            "|     review_id|star_rating|helpful_votes|total_votes|vine|verified_purchase|     percent_votes|\n",
            "+--------------+-----------+-------------+-----------+----+-----------------+------------------+\n",
            "| R4PKAZRQJJX14|          1|           21|         34|   N|                N|0.6176470588235294|\n",
            "|R2CI0Y288CC7E2|          1|           21|         35|   N|                Y|               0.6|\n",
            "|R127WEQY2FM1T3|          1|          147|        175|   N|                Y|              0.84|\n",
            "|R2FJ94555FZH32|          2|           55|         60|   N|                N|0.9166666666666666|\n",
            "|R1U3AR67RE273L|          1|           51|         65|   N|                Y|0.7846153846153846|\n",
            "|R3PZOXA5X1U8KW|          4|           31|         36|   N|                N|0.8611111111111112|\n",
            "| R6KTC1OPIOIIG|          2|           19|         34|   N|                Y|0.5588235294117647|\n",
            "|R36O341WWXXKNP|          5|           28|         31|   N|                N|0.9032258064516129|\n",
            "|R10LZVBLQHBVJ0|          2|          151|        198|   N|                N|0.7626262626262627|\n",
            "|R1VR5GLGY1GE7N|          1|           49|         51|   N|                Y|0.9607843137254902|\n",
            "|R2OWDAR0EDEPTF|          1|           23|         28|   N|                N|0.8214285714285714|\n",
            "|R29BOS5HMAY1LO|          5|           88|        110|   N|                N|               0.8|\n",
            "| R8WD0136CETA7|          2|           99|        119|   N|                N|0.8319327731092437|\n",
            "|R16621F16PQN5A|          3|           24|         31|   N|                Y|0.7741935483870968|\n",
            "|R1LXBPG1M9DDOC|          1|          102|        106|   N|                N|0.9622641509433962|\n",
            "| RNEMGSUKJ4535|          2|           21|         25|   N|                Y|              0.84|\n",
            "|R3R2UKBFKP1IQ4|          1|           19|         23|   N|                Y|0.8260869565217391|\n",
            "|R2T90XM5G2DBZA|          3|           15|         22|   N|                Y|0.6818181818181818|\n",
            "| R5ZMK0Y0KRBRZ|          1|           79|         91|   N|                N|0.8681318681318682|\n",
            "|R12E2W0XOV3I2S|          1|           24|         30|   N|                Y|               0.8|\n",
            "+--------------+-----------+-------------+-----------+----+-----------------+------------------+\n",
            "only showing top 20 rows\n",
            "\n"
          ]
        }
      ]
    },
    {
      "cell_type": "code",
      "source": [
        "percent_votes_df.count()"
      ],
      "metadata": {
        "colab": {
          "base_uri": "https://localhost:8080/"
        },
        "id": "8pJG8Bi-w0uQ",
        "outputId": "00fc8a0e-58b4-41fc-9aac-95f9829139fd"
      },
      "execution_count": 11,
      "outputs": [
        {
          "output_type": "execute_result",
          "data": {
            "text/plain": [
              "40565"
            ]
          },
          "metadata": {},
          "execution_count": 11
        }
      ]
    },
    {
      "cell_type": "code",
      "source": [
        "# Paid Reviews\n",
        "\n",
        "paid_vine_df = percent_votes_df.filter(col(\"vine\") == 'Y')\n",
        "paid_vine_df.show()"
      ],
      "metadata": {
        "colab": {
          "base_uri": "https://localhost:8080/"
        },
        "id": "eoo72sKfxQfw",
        "outputId": "763de976-5b8b-44d2-870b-c17ed7507158"
      },
      "execution_count": 12,
      "outputs": [
        {
          "output_type": "stream",
          "name": "stdout",
          "text": [
            "+--------------+-----------+-------------+-----------+----+-----------------+------------------+\n",
            "|     review_id|star_rating|helpful_votes|total_votes|vine|verified_purchase|     percent_votes|\n",
            "+--------------+-----------+-------------+-----------+----+-----------------+------------------+\n",
            "|R3KKUSGFZWSUIY|          5|           56|         63|   Y|                N|0.8888888888888888|\n",
            "|R10FO5UKKVZBK2|          3|           23|         23|   Y|                N|               1.0|\n",
            "| RM4KSGEOR7MU1|          5|           19|         24|   Y|                N|0.7916666666666666|\n",
            "| RG7VRMYLEXD23|          4|           22|         26|   Y|                N|0.8461538461538461|\n",
            "|R11O4YSCPSNL6L|          3|           20|         26|   Y|                N|0.7692307692307693|\n",
            "|R286MFBAJ8NPD6|          5|           46|         51|   Y|                N|0.9019607843137255|\n",
            "|R1JRR530H4COA2|          5|           22|         28|   Y|                N|0.7857142857142857|\n",
            "| RQ5WD90PUNBU9|          5|           21|         24|   Y|                N|             0.875|\n",
            "|R12648VHCQWUV9|          4|           21|         28|   Y|                N|              0.75|\n",
            "|R3KAW29CJ8L6DQ|          5|           17|         20|   Y|                N|              0.85|\n",
            "|R1OWK33OPI45KT|          5|           55|         58|   Y|                N|0.9482758620689655|\n",
            "|R2UP7VTED8O425|          5|           35|         41|   Y|                N|0.8536585365853658|\n",
            "|R3N4QAXTQCA1ED|          5|           18|         20|   Y|                N|               0.9|\n",
            "|R3EPHK0JGQGE91|          5|           21|         28|   Y|                N|              0.75|\n",
            "| RCP3KRO47S0GG|          4|           51|         58|   Y|                N|0.8793103448275862|\n",
            "|R3JT907UUA1WUI|          4|           85|        103|   Y|                N|0.8252427184466019|\n",
            "| RY0555ILXIYXW|          5|           38|         50|   Y|                N|              0.76|\n",
            "|R24PS9N276OXF4|          5|          241|        262|   Y|                N|0.9198473282442748|\n",
            "|R3R0F8ETAGTIOT|          5|           14|         20|   Y|                N|               0.7|\n",
            "| ROXZOMHBY8Y9S|          4|           21|         23|   Y|                N|0.9130434782608695|\n",
            "+--------------+-----------+-------------+-----------+----+-----------------+------------------+\n",
            "only showing top 20 rows\n",
            "\n"
          ]
        }
      ]
    },
    {
      "cell_type": "code",
      "source": [
        "paid_vine_df.count()"
      ],
      "metadata": {
        "colab": {
          "base_uri": "https://localhost:8080/"
        },
        "id": "L40rFOo4xgHm",
        "outputId": "2de017f6-1547-4b9b-ad63-b9b3c28e4366"
      },
      "execution_count": 13,
      "outputs": [
        {
          "output_type": "execute_result",
          "data": {
            "text/plain": [
              "94"
            ]
          },
          "metadata": {},
          "execution_count": 13
        }
      ]
    },
    {
      "cell_type": "code",
      "source": [
        "# Unpaid vinew reviews\n",
        "unpaid_vine_df = percent_votes_df.filter(col(\"vine\") == 'N')\n",
        "unpaid_vine_df.show()"
      ],
      "metadata": {
        "colab": {
          "base_uri": "https://localhost:8080/"
        },
        "id": "DPBAPP14xhN6",
        "outputId": "f2ec18ed-d10b-4dde-d471-3b2d04966252"
      },
      "execution_count": 14,
      "outputs": [
        {
          "output_type": "stream",
          "name": "stdout",
          "text": [
            "+--------------+-----------+-------------+-----------+----+-----------------+------------------+\n",
            "|     review_id|star_rating|helpful_votes|total_votes|vine|verified_purchase|     percent_votes|\n",
            "+--------------+-----------+-------------+-----------+----+-----------------+------------------+\n",
            "| R4PKAZRQJJX14|          1|           21|         34|   N|                N|0.6176470588235294|\n",
            "|R2CI0Y288CC7E2|          1|           21|         35|   N|                Y|               0.6|\n",
            "|R127WEQY2FM1T3|          1|          147|        175|   N|                Y|              0.84|\n",
            "|R2FJ94555FZH32|          2|           55|         60|   N|                N|0.9166666666666666|\n",
            "|R1U3AR67RE273L|          1|           51|         65|   N|                Y|0.7846153846153846|\n",
            "|R3PZOXA5X1U8KW|          4|           31|         36|   N|                N|0.8611111111111112|\n",
            "| R6KTC1OPIOIIG|          2|           19|         34|   N|                Y|0.5588235294117647|\n",
            "|R36O341WWXXKNP|          5|           28|         31|   N|                N|0.9032258064516129|\n",
            "|R10LZVBLQHBVJ0|          2|          151|        198|   N|                N|0.7626262626262627|\n",
            "|R1VR5GLGY1GE7N|          1|           49|         51|   N|                Y|0.9607843137254902|\n",
            "|R2OWDAR0EDEPTF|          1|           23|         28|   N|                N|0.8214285714285714|\n",
            "|R29BOS5HMAY1LO|          5|           88|        110|   N|                N|               0.8|\n",
            "| R8WD0136CETA7|          2|           99|        119|   N|                N|0.8319327731092437|\n",
            "|R16621F16PQN5A|          3|           24|         31|   N|                Y|0.7741935483870968|\n",
            "|R1LXBPG1M9DDOC|          1|          102|        106|   N|                N|0.9622641509433962|\n",
            "| RNEMGSUKJ4535|          2|           21|         25|   N|                Y|              0.84|\n",
            "|R3R2UKBFKP1IQ4|          1|           19|         23|   N|                Y|0.8260869565217391|\n",
            "|R2T90XM5G2DBZA|          3|           15|         22|   N|                Y|0.6818181818181818|\n",
            "| R5ZMK0Y0KRBRZ|          1|           79|         91|   N|                N|0.8681318681318682|\n",
            "|R12E2W0XOV3I2S|          1|           24|         30|   N|                Y|               0.8|\n",
            "+--------------+-----------+-------------+-----------+----+-----------------+------------------+\n",
            "only showing top 20 rows\n",
            "\n"
          ]
        }
      ]
    },
    {
      "cell_type": "code",
      "source": [
        "unpaid_vine_df.count()"
      ],
      "metadata": {
        "colab": {
          "base_uri": "https://localhost:8080/"
        },
        "id": "Hhc1RrIExhal",
        "outputId": "bd7c0e9a-c6a9-4183-ca58-c0acd8eef80f"
      },
      "execution_count": 15,
      "outputs": [
        {
          "output_type": "execute_result",
          "data": {
            "text/plain": [
              "40471"
            ]
          },
          "metadata": {},
          "execution_count": 15
        }
      ]
    },
    {
      "cell_type": "code",
      "source": [
        "#Paid 5-star review\n",
        "paid_star_rating_df = paid_vine_df.filter(col(\"star_rating\") == 5)\n",
        "paid_star_rating_df.show()"
      ],
      "metadata": {
        "colab": {
          "base_uri": "https://localhost:8080/"
        },
        "id": "6Kv9UgXvyNY5",
        "outputId": "1bb23969-d0b6-4a77-eb2a-c763eb16cc10"
      },
      "execution_count": 16,
      "outputs": [
        {
          "output_type": "stream",
          "name": "stdout",
          "text": [
            "+--------------+-----------+-------------+-----------+----+-----------------+------------------+\n",
            "|     review_id|star_rating|helpful_votes|total_votes|vine|verified_purchase|     percent_votes|\n",
            "+--------------+-----------+-------------+-----------+----+-----------------+------------------+\n",
            "|R3KKUSGFZWSUIY|          5|           56|         63|   Y|                N|0.8888888888888888|\n",
            "| RM4KSGEOR7MU1|          5|           19|         24|   Y|                N|0.7916666666666666|\n",
            "|R286MFBAJ8NPD6|          5|           46|         51|   Y|                N|0.9019607843137255|\n",
            "|R1JRR530H4COA2|          5|           22|         28|   Y|                N|0.7857142857142857|\n",
            "| RQ5WD90PUNBU9|          5|           21|         24|   Y|                N|             0.875|\n",
            "|R3KAW29CJ8L6DQ|          5|           17|         20|   Y|                N|              0.85|\n",
            "|R1OWK33OPI45KT|          5|           55|         58|   Y|                N|0.9482758620689655|\n",
            "|R2UP7VTED8O425|          5|           35|         41|   Y|                N|0.8536585365853658|\n",
            "|R3N4QAXTQCA1ED|          5|           18|         20|   Y|                N|               0.9|\n",
            "|R3EPHK0JGQGE91|          5|           21|         28|   Y|                N|              0.75|\n",
            "| RY0555ILXIYXW|          5|           38|         50|   Y|                N|              0.76|\n",
            "|R24PS9N276OXF4|          5|          241|        262|   Y|                N|0.9198473282442748|\n",
            "|R3R0F8ETAGTIOT|          5|           14|         20|   Y|                N|               0.7|\n",
            "|R1L8N6VFY5KDSU|          5|           23|         26|   Y|                N|0.8846153846153846|\n",
            "| R4LQC6M9AVXAY|          5|           69|         75|   Y|                N|              0.92|\n",
            "|R1CUA6APLIFSG9|          5|           39|         49|   Y|                N|0.7959183673469388|\n",
            "|R369DSVA6AH6SB|          5|           16|         21|   Y|                N|0.7619047619047619|\n",
            "| RIUKST053BR2K|          5|           25|         26|   Y|                N|0.9615384615384616|\n",
            "|R1IN4WPVLZB86G|          5|           34|         37|   Y|                N| 0.918918918918919|\n",
            "|R2INH817LTJFGI|          5|           18|         20|   Y|                N|               0.9|\n",
            "+--------------+-----------+-------------+-----------+----+-----------------+------------------+\n",
            "only showing top 20 rows\n",
            "\n"
          ]
        }
      ]
    },
    {
      "cell_type": "code",
      "source": [
        "paid_star_rating_df.count()"
      ],
      "metadata": {
        "colab": {
          "base_uri": "https://localhost:8080/"
        },
        "id": "-3LbrvrPyNkF",
        "outputId": "bf8f93b1-179f-41a0-8f69-4043c141f9cb"
      },
      "execution_count": 17,
      "outputs": [
        {
          "output_type": "execute_result",
          "data": {
            "text/plain": [
              "48"
            ]
          },
          "metadata": {},
          "execution_count": 17
        }
      ]
    },
    {
      "cell_type": "code",
      "source": [
        "# unpaid 5-star review\n",
        "unpaid_star_rating_df = unpaid_vine_df.filter(col(\"star_rating\") == 5)\n",
        "unpaid_star_rating_df.show()"
      ],
      "metadata": {
        "colab": {
          "base_uri": "https://localhost:8080/"
        },
        "id": "BGiNU9YjyNr6",
        "outputId": "dceaf77d-7777-459d-e591-2d2f893a0cc0"
      },
      "execution_count": 18,
      "outputs": [
        {
          "output_type": "stream",
          "name": "stdout",
          "text": [
            "+--------------+-----------+-------------+-----------+----+-----------------+------------------+\n",
            "|     review_id|star_rating|helpful_votes|total_votes|vine|verified_purchase|     percent_votes|\n",
            "+--------------+-----------+-------------+-----------+----+-----------------+------------------+\n",
            "|R36O341WWXXKNP|          5|           28|         31|   N|                N|0.9032258064516129|\n",
            "|R29BOS5HMAY1LO|          5|           88|        110|   N|                N|               0.8|\n",
            "| RDX2ZZ46AM343|          5|           32|         34|   N|                Y|0.9411764705882353|\n",
            "| R60GI4Z1CNGGV|          5|           17|         20|   N|                Y|              0.85|\n",
            "|R2FAARI3JQO9XQ|          5|           29|         30|   N|                Y|0.9666666666666667|\n",
            "|R2WS53BH47WUMT|          5|           68|         84|   N|                N|0.8095238095238095|\n",
            "|R2BBH73BUJYBGK|          5|           18|         22|   N|                N|0.8181818181818182|\n",
            "|R18ZBSSAMJOV8I|          5|          450|        471|   N|                N|0.9554140127388535|\n",
            "|R3M42FPE0VJA0U|          5|           20|         22|   N|                Y|0.9090909090909091|\n",
            "| RCK4WXLGD3HDY|          5|           72|         81|   N|                Y|0.8888888888888888|\n",
            "|R18YE5XIUB40P9|          5|           18|         20|   N|                Y|               0.9|\n",
            "| RDU0H4FXCK7N6|          5|           36|         47|   N|                N|0.7659574468085106|\n",
            "|R1I1EFIKJEUYPW|          5|           14|         23|   N|                N|0.6086956521739131|\n",
            "|R2WPAHM90BCWUN|          5|          210|        227|   N|                Y|0.9251101321585903|\n",
            "|R36BPLEJ7NEIGU|          5|           16|         22|   N|                N|0.7272727272727273|\n",
            "|R1Q0A0OBLP6XBF|          5|           40|         49|   N|                N|0.8163265306122449|\n",
            "|R3A0OAIPIIXZS3|          5|           70|         79|   N|                N|0.8860759493670886|\n",
            "|R1KM8H2IP5U32V|          5|           21|         27|   N|                N|0.7777777777777778|\n",
            "|R2CUQ7BSCBOXVB|          5|           24|         25|   N|                Y|              0.96|\n",
            "|R3H5ESWACX0M2C|          5|           71|         81|   N|                N|0.8765432098765432|\n",
            "+--------------+-----------+-------------+-----------+----+-----------------+------------------+\n",
            "only showing top 20 rows\n",
            "\n"
          ]
        }
      ]
    },
    {
      "cell_type": "code",
      "source": [
        "unpaid_star_rating_df.count()"
      ],
      "metadata": {
        "colab": {
          "base_uri": "https://localhost:8080/"
        },
        "id": "hIHaeIARyN0R",
        "outputId": "b6368ebc-a08d-4bf5-b87e-e71af4541dc0"
      },
      "execution_count": 19,
      "outputs": [
        {
          "output_type": "execute_result",
          "data": {
            "text/plain": [
              "15663"
            ]
          },
          "metadata": {},
          "execution_count": 19
        }
      ]
    },
    {
      "cell_type": "code",
      "source": [
        "from pyspark.sql.functions import col,when,count\n",
        "\n",
        "total_ratings_df = percent_votes_df.groupBy(\"vine\").agg(\n",
        "    count(col(\"vine\")).alias(\"Total_Reviews\"),\n",
        "    count(when(col(\"star_rating\") == 5, True)).alias(\"Total_5_Star_Reviews\"),\n",
        "    (count(when(col(\"star_rating\") == 5, True))/count(col(\"vine\"))*100).alias(\"%_Total_5_star\"))\n",
        "total_ratings_df.show()\n",
        "     "
      ],
      "metadata": {
        "colab": {
          "base_uri": "https://localhost:8080/"
        },
        "id": "aKwdaQl6ynGo",
        "outputId": "6a2beeed-f40b-4995-ab06-6815c704a487"
      },
      "execution_count": 23,
      "outputs": [
        {
          "output_type": "stream",
          "name": "stdout",
          "text": [
            "+----+-------------+--------------------+------------------+\n",
            "|vine|Total_Reviews|Total_5_Star_Reviews|    %_Total_5_star|\n",
            "+----+-------------+--------------------+------------------+\n",
            "|   Y|           94|                  48| 51.06382978723404|\n",
            "|   N|        40471|               15663|38.701786464381904|\n",
            "+----+-------------+--------------------+------------------+\n",
            "\n"
          ]
        }
      ]
    }
  ]
}